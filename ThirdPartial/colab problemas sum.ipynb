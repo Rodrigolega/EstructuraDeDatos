{
  "nbformat": 4,
  "nbformat_minor": 0,
  "metadata": {
    "colab": {
      "provenance": []
    },
    "kernelspec": {
      "name": "python3",
      "display_name": "Python 3"
    },
    "language_info": {
      "name": "python"
    }
  },
  "cells": [
    {
      "cell_type": "markdown",
      "source": [
        "Fuerza bruta"
      ],
      "metadata": {
        "id": "eSwZOZEPtdyI"
      }
    },
    {
      "cell_type": "markdown",
      "source": [
        "como primer problema en leet nos encotramos una sume de dos numeros, por lo que entendi ocupamos un arreglo y en ese arreglo encontrar dos numeros que nos resulten en nuestro taget\n",
        "yo la verdad tuve que investigar porque no recordaba como escribirlo pero se que tiene que hacer\""
      ],
      "metadata": {
        "id": "6AEzcWZ2mMej"
      }
    },
    {
      "cell_type": "code",
      "source": [
        "class Solution:\n",
        "    def twoSum(self, nums, target):\n",
        "        \"este ciclo for nos ayudara a recorrer nuestro arreglo, se le pone len(nums) para que independientemente del arreglo se pueda hacer sin importar su tamano\"\n",
        "        for i in range(len(nums)):\n",
        "            \"se inicia otro ciclo para ver cuales son mis numeros que sumados me dan el target, este suma todos los numeros hasta que me de el target\"\n",
        "            for j in range(i + 1, len(nums)):\n",
        "                if nums[i] + nums[j] == target:\n",
        "                    return [i, j]\n",
        "        return None\n",
        "\n",
        "# Crear una inst ancia de la clase\n",
        "sol = Solution()\n",
        "\n",
        "# Datos de entrada\n",
        "arreglo = [2, 7, 9, 15]\n",
        "target = 9\n",
        "\n",
        "# Ejecutar el método\n",
        "resultado = sol.twoSum(arreglo, target)\n",
        "\n",
        "if resultado:\n",
        "    print(f\"Índices encontrados: {resultado}\")\n",
        "else:\n",
        "    print(\"No se encontró una pareja que sume el target.\")"
      ],
      "metadata": {
        "colab": {
          "base_uri": "https://localhost:8080/"
        },
        "id": "9hXQpTFCma4c",
        "outputId": "01858dbd-24c3-4e6d-f99e-412178dccbcf"
      },
      "execution_count": null,
      "outputs": [
        {
          "output_type": "stream",
          "name": "stdout",
          "text": [
            "Índices encontrados: [0, 1]\n"
          ]
        }
      ]
    },
    {
      "cell_type": "markdown",
      "source": [
        "Aqui fue el primer problema de leet code, la verdad en cuanto vi de que trataba me imagine hacerlo con dos ciclos for complicando un poco el codigo pero fue mi primera idea, hacer qeu agarre un numero y ese irlo comparando uno a uno para sacar mi target, no recordaba muy bien como escribir en python pero ahora me refresque un poco la memoria, busque una forma mas eficiente de hacerlo y fue con hash map, esta se me hizo mas complicada pero es mas eficiente ya que tiene una complejidad de o(n) y yo use o(n^2) quiero aprender mas acerca del hash porque mi codigo es muy basico y complicado pero saca el resultado comparando todos los elementos de mi lista para ver cuales suman el target.\n",
        "\n"
      ],
      "metadata": {
        "id": "gA08Bza_mpFy"
      }
    },
    {
      "cell_type": "markdown",
      "source": [
        "Hash map"
      ],
      "metadata": {
        "id": "CQfaItHytYfZ"
      }
    },
    {
      "cell_type": "code",
      "source": [
        "from typing import List\n",
        "\n",
        "class Solution:\n",
        "    def twoSum(self, nums: List[int], target: int) -> List[int]:\n",
        "        mapa = {}  # valor -> índice\n",
        "\n",
        "        for i, num in enumerate(nums):\n",
        "            complemento = target - num\n",
        "\n",
        "            # Si el complemento ya está en el mapa, devolvemos los índices\n",
        "            if complemento in mapa:\n",
        "                return [mapa[complemento], i]\n",
        "\n",
        "            # Guardamos el valor actual y su índice\n",
        "            mapa[num] = i\n",
        "\n",
        "solu = Solution()\n",
        "nums = [2, 7, 9, 15]\n",
        "target = 9\n",
        "result = solu.twoSum(nums, target)\n",
        "print(\"indices encontrados\", result)"
      ],
      "metadata": {
        "colab": {
          "base_uri": "https://localhost:8080/"
        },
        "id": "DzsSuV7ptTnf",
        "outputId": "cb8f0dcf-41bc-445a-b732-eaf48effa13f"
      },
      "execution_count": null,
      "outputs": [
        {
          "output_type": "stream",
          "name": "stdout",
          "text": [
            "indices encontrados [0, 1]\n"
          ]
        }
      ]
    },
    {
      "cell_type": "markdown",
      "source": [
        "Tarea Two Product\n",
        "Dar un arreglo de numeros cuyo producto sea el target, realizar ambas soluciones con fuerza brtua y con hash map\n"
      ],
      "metadata": {
        "id": "q1c6Vm8SyUu_"
      }
    },
    {
      "cell_type": "markdown",
      "source": [
        "Fuerza bruta con multiplicacion"
      ],
      "metadata": {
        "id": "V63Gdiyqbu0X"
      }
    },
    {
      "cell_type": "code",
      "source": [
        "class Solution:\n",
        "    def twoMult(self, nums, target):\n",
        "        for i in range(len(nums)):\n",
        "            for j in range(i + 1, len(nums)):\n",
        "                if nums[i] * nums[j] == target:\n",
        "                    return [i, j]\n",
        "        return None\n",
        "\n",
        "sol = Solution()\n",
        "\n",
        "arreglo = [2, 7, 11, 15]\n",
        "target = 14\n",
        "\n",
        "resultado = sol.twoMult(arreglo, target)\n",
        "\n",
        "if resultado:\n",
        "    print(f\"Índices encontrados: {resultado}\")\n",
        "else:\n",
        "    print(\"No se encontró una pareja que Multiplique el target.\")"
      ],
      "metadata": {
        "colab": {
          "base_uri": "https://localhost:8080/"
        },
        "id": "TyyiiTmbbPFv",
        "outputId": "ccaafe4a-cbc4-4883-ad64-600047b673a8"
      },
      "execution_count": null,
      "outputs": [
        {
          "output_type": "stream",
          "name": "stdout",
          "text": [
            "Índices encontrados: [0, 1]\n"
          ]
        }
      ]
    },
    {
      "cell_type": "markdown",
      "source": [
        "Lo que hice en este programa fue que se recorre el arreglo con fuerza bruta usando dos ciclos for, uno es el numero inicial y el otro ciclo recorre el arreglo, si ve que dos numeros multiplicados del arreglo dan el target, llama a la clase y se muestra como el resultado."
      ],
      "metadata": {
        "id": "MYGkZ5iddIta"
      }
    },
    {
      "cell_type": "markdown",
      "source": [
        "Tarea Two mult con hash map"
      ],
      "metadata": {
        "id": "GwxHRLV9deKC"
      }
    },
    {
      "cell_type": "code",
      "source": [
        "from typing import List\n",
        "\n",
        "class Solution:\n",
        "    def twoMultH(self, nums: List[int], target: int) -> List[int]:\n",
        "        mapa = {}  # valor -> índice\n",
        "\n",
        "        for i, num in enumerate(nums):\n",
        "\n",
        "            if num == 0:\n",
        "                continue\n",
        "\n",
        "            complemento = target / num\n",
        "\n",
        "            if complemento in mapa:\n",
        "                return [mapa[complemento], i]\n",
        "\n",
        "\n",
        "            mapa[num] = i\n",
        "\n",
        "solu = Solution()\n",
        "nums = [2, 0, 9, 15]\n",
        "target = 18\n",
        "result = solu.twoMultH(nums, target)\n",
        "print(\"indices encontrados\", result)"
      ],
      "metadata": {
        "colab": {
          "base_uri": "https://localhost:8080/"
        },
        "id": "Cije7JqqdkGc",
        "outputId": "7401301b-fc96-45b6-c564-b342d8f7cdf9"
      },
      "execution_count": null,
      "outputs": [
        {
          "output_type": "stream",
          "name": "stdout",
          "text": [
            "indices encontrados [0, 2]\n"
          ]
        }
      ]
    },
    {
      "cell_type": "markdown",
      "source": [
        "Este problema me resulto un poco mas confuso pero lo entendi a la perfeccion, entendi que mi complento tiene que estar en el arreglo y asi el programa al saber que divide que al encontrar un numero similar ya sabe que el producto de esos dos numeros es mi resultado y por ende me dice sus posiciones, lo que me confundio es que si hay un 0 en la lista da error, porque no se puede dividir por 0 pero esto se soluciona facil ya que solo condicione a mi for que si ve un 0 solo que continue, es un poco mas complejo pero mas eficacion ya que va guardando numeros y encontrando el mismo complemento y numero en el arreglo, para poder sacar el producto de estos numeros solo tenia que dividir no multiplicar."
      ],
      "metadata": {
        "id": "qql_0_nakvwA"
      }
    }
  ]
}